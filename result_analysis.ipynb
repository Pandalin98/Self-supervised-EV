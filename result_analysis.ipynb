{
 "cells": [
  {
   "cell_type": "markdown",
   "metadata": {},
   "source": [
    "# 配置变量"
   ]
  },
  {
   "cell_type": "code",
   "execution_count": 1,
   "metadata": {},
   "outputs": [
    {
     "name": "stdout",
     "output_type": "stream",
     "text": [
      "args: <__main__.Args object at 0x7f2b7a8ddac0>\n"
     ]
    }
   ],
   "source": [
    "import numpy as np\n",
    "import pandas as pd\n",
    "import os\n",
    "import torch\n",
    "from torch import nn\n",
    "from src.models.NervFormer import NervFormer\n",
    "from src.learner import Learner, transfer_weights\n",
    "from src.callback.tracking import *\n",
    "from src.callback.patch_mask import *\n",
    "from src.callback.transforms import *\n",
    "from src.metrics import *\n",
    "from src.metrics import rmse,mae,REP\n",
    "from src.basics import set_device,set_seed\n",
    "from src.datautils import *\n",
    "\n",
    "import datetime \n",
    "import argparse\n",
    "import joblib\n",
    "from src.callback.patch_mask import create_patch\n",
    "from src.power_battery import PowerBatteryData\n",
    "# from src.explain import explain_funciton\n",
    "#设计随机种子\n",
    "class Args:\n",
    "    def __init__(self, device, is_pretrain, is_finetune, is_linear_probe, explain, \n",
    "                 test, predict, project_name, dset_pretrain, dset_finetune, \n",
    "                 data_path, batch_size, num_workers, scale, dist, revin, \n",
    "                 n_layers, n_layers_dec, prior_dim, n_heads, d_model, dropout, \n",
    "                 head_dropout, input_len, output_len, patch_len, stride, \n",
    "                 stride_ratio, mask_ratio, recon_weight, kl_temperature, \n",
    "                 n_epochs_pretrain, lr, n_epochs_finetune, head_epochs_ratio, \n",
    "                 pretrained_model_id, model_type):\n",
    "        self.device = device\n",
    "        self.is_pretrain = is_pretrain\n",
    "        self.is_finetune = is_finetune\n",
    "        self.is_linear_probe = is_linear_probe\n",
    "        self.explain = explain\n",
    "        self.test = test\n",
    "        self.predict = predict\n",
    "        self.project_name = project_name\n",
    "        self.dset_pretrain = dset_pretrain\n",
    "        self.dset_finetune = dset_finetune\n",
    "        self.data_path = data_path\n",
    "        self.batch_size = batch_size\n",
    "        self.num_workers = num_workers\n",
    "        self.scale = scale\n",
    "        self.dist = dist\n",
    "        self.revin = revin\n",
    "        self.n_layers = n_layers\n",
    "        self.n_layers_dec = n_layers_dec\n",
    "        self.prior_dim = prior_dim\n",
    "        self.n_heads = n_heads\n",
    "        self.d_model = d_model\n",
    "        self.dropout = dropout\n",
    "        self.head_dropout = head_dropout\n",
    "        self.input_len = input_len\n",
    "        self.output_len = output_len\n",
    "        self.patch_len = patch_len\n",
    "        self.stride = stride\n",
    "        self.stride_ratio = stride_ratio\n",
    "        self.mask_ratio = mask_ratio\n",
    "        self.recon_weight = recon_weight\n",
    "        self.kl_temperature = kl_temperature\n",
    "        self.n_epochs_pretrain = n_epochs_pretrain\n",
    "        self.lr = lr\n",
    "        self.n_epochs_finetune = n_epochs_finetune\n",
    "        self.head_epochs_ratio = head_epochs_ratio\n",
    "        self.pretrained_model_id = pretrained_model_id\n",
    "        self.model_type = model_type\n",
    "        # ... 其他参数\n",
    "\n",
    "args = Args(\n",
    "    device=3, is_pretrain=0, is_finetune=0, is_linear_probe=1, explain=0, \n",
    "    test=True, predict=True, project_name='power_battery', dset_pretrain='Power-Battery', \n",
    "    dset_finetune='Power-Battery', data_path='./data/local_data_structure', batch_size=512, \n",
    "    num_workers=0, scale=True, dist=False, revin=0, n_layers=4, n_layers_dec=2, \n",
    "    prior_dim=6, n_heads=16, d_model=512, dropout=0.15, head_dropout=0.05, \n",
    "    input_len=96, output_len=192, patch_len=1000, stride=True, stride_ratio=1.0, \n",
    "    mask_ratio=0.4, recon_weight=0.5, kl_temperature=0.1, n_epochs_pretrain=300, \n",
    "    lr=1e-4, n_epochs_finetune=200, head_epochs_ratio=0.05, pretrained_model_id=1, \n",
    "    model_type='based_model'\n",
    "    # ... 其他参数\n",
    ")\n",
    "\n",
    "args.finetuned_model_id = 1\n",
    "\n",
    "args.stride = int(args.patch_len * args.stride_ratio)\n",
    "args.dist = False\n",
    "print('args:', args)\n",
    "args.pretrained_model = 'patchtst_pretrained_dataset'+str(args.dset_pretrain)+'_patch'+str(args.patch_len) + '_stride'+str(args.stride) + '_epochs-pretrain' + str(args.n_epochs_pretrain) + '_mask' + str(args.mask_ratio)  + '_model' + str(args.pretrained_model_id)\n",
    "args.save_path = 'saved_models/' + args.dset_pretrain + '/masked_patchtst/' + args.model_type + '/'\n",
    "if not os.path.exists(args.save_path): os.makedirs(args.save_path)\n",
    "\n",
    "time = datetime.datetime.now().strftime(\"%Y-%m-%d-%H-%M-%S\")\n",
    "# args.save_finetuned_model = '_cw'+str(args.context_points)+'_tw'+str(args.output_len) + '_patch'+str(args.patch_len) + '_stride'+str(args.stride) + '_epochs-finetune' + str(args.n_epochs_finetune) + '_mask' + str(args.mask_ratio)  + '_model' + str(args.finetuned_model_id)\n",
    "suffix_name = '_time'+str(time)+'_ol'+str(args.output_len) + '_patch'+str(args.patch_len) + '_stride'+str(args.stride) + '_epochs-finetune' + str(args.n_epochs_finetune) + '_model' + str(args.finetuned_model_id)+ '_n_layer'+str(args.n_layers)+'_n_dec'+str(args.n_layers_dec)+'_n_head'+str(args.n_heads)+'_d_model'+str(args.d_model)+'_dropout'+str(args.dropout)+'_head_dropout'+str(args.head_dropout)\n",
    "args.d_ff = 4 * args.d_model\n",
    "args.save_pretrained_model = args.pretrained_model\n",
    "args.save_linear_probe_model = 'linear_probe' + suffix_name\n",
    "args.save_finetuned_model = 'finetuned' + suffix_name\n",
    "# get available GPU devide\n",
    "if not args.dist:\n",
    "    set_device(device_id=args.device)\n",
    "set_seed(3407)"
   ]
  },
  {
   "cell_type": "code",
   "execution_count": 2,
   "metadata": {},
   "outputs": [],
   "source": [
    "def get_model(c_in, head_type,args):\n",
    "    \"\"\"\n",
    "    c_in: number of variables\n",
    "    \"\"\"\n",
    "    # get number of patches\n",
    "    \n",
    "    # get modelxb, yb\n",
    "    model = NervFormer(c_in=c_in,head_type=head_type,\n",
    "                target_dim=args.output_len,\n",
    "                patch_len=args.patch_len,\n",
    "                stride=args.stride,\n",
    "                n_layers=args.n_layers,\n",
    "                n_layers_dec=args.n_layers_dec,\n",
    "                n_heads=args.n_heads,\n",
    "                d_model=args.d_model,\n",
    "                shared_embedding=True,\n",
    "                d_ff=args.d_ff,                        \n",
    "                dropout=args.dropout,\n",
    "                head_dropout=args.head_dropout,\n",
    "                act='relu',\n",
    "                res_attention=False,\n",
    "                prior_dim=args.prior_dim,\n",
    "                input_len=args.input_len,\n",
    "                output_len=args.output_len,\n",
    "                )        \n",
    "    # print out the model size\n",
    "    print('number of model params', sum(p.numel() for p in model.parameters() if p.requires_grad))\n",
    "    return model\n"
   ]
  },
  {
   "cell_type": "markdown",
   "metadata": {},
   "source": [
    "## 导入数据"
   ]
  },
  {
   "cell_type": "code",
   "execution_count": 3,
   "metadata": {},
   "outputs": [],
   "source": [
    "def get_dataset_dict(args):\n",
    "    dataset_dict = {}\n",
    "    if args.task_flag =='pretrain':\n",
    "        dataset_dict['pretrain'] = PowerBatteryData(**{\n",
    "                'data_path': args.data_path,\n",
    "                'scale': args.scale,\n",
    "                'size':[args.input_len,args.output_len],\n",
    "                }, split='pretrain')\n",
    "    if args.task_flag == 'finetune' or args.task_flag == 'linear_probe':\n",
    "        \"make dataset: {}\\n\".format(args.task_flag)\n",
    "        dataset_dict['train'] = PowerBatteryData(**{\n",
    "                'data_path': args.data_path,\n",
    "                'scale': args.scale,\n",
    "                'size':[args.input_len,args.output_len],\n",
    "                }, split='train')\n",
    "        dataset_dict['val'] =  PowerBatteryData(**{\n",
    "                'data_path': args.data_path,\n",
    "                'scale': args.scale,\n",
    "                'size':[args.input_len,args.output_len],\n",
    "                }, split='val')\n",
    "        dataset_dict['test'] =  PowerBatteryData(**{\n",
    "                'data_path': args.data_path,\n",
    "                'scale': args.scale,\n",
    "                'size':[args.input_len,args.output_len],\n",
    "                }, split='test')\n",
    "    if args.task_flag == 'test':\n",
    "        dataset_dict['test'] = PowerBatteryData(**{\n",
    "                'data_path': args.data_path,\n",
    "                'scale': args.scale,\n",
    "                'size':[args.input_len,args.output_len],\n",
    "                }, split='test')\n",
    "    return dataset_dict\n",
    "\n",
    "input_len = args.input_len\n",
    "finetune_strie_ratio = args.stride_ratio\n",
    "args.dset = args.dset_pretrain\n",
    "args.initialize_wandb = False\n",
    "args.task_flag = 'pretrain'\n",
    "args.batch_size = 1\n",
    "\n"
   ]
  },
  {
   "cell_type": "markdown",
   "metadata": {},
   "source": [
    "# 导入模型"
   ]
  },
  {
   "cell_type": "code",
   "execution_count": 4,
   "metadata": {},
   "outputs": [
    {
     "name": "stdout",
     "output_type": "stream",
     "text": [
      "number of model params 52774281\n",
      "weights from saved_models/Power-Battery/masked_patchtst/based_model/linear_probe_time2024-02-23-04-03-33_ol192_patch1000_stride1000_epochs-finetune200_model1_n_layer4_n_dec2_n_head16_d_model512_dropout0.15_head_dropout0.05.pth successfully transferred!\n",
      "\n",
      "load linear_probe model\n"
     ]
    }
   ],
   "source": [
    "args.head_type = 'prior_pooler'\n",
    "model = get_model(19, args.head_type,args)\n",
    "#根据device_id选择设备\n",
    "model = transfer_weights('saved_models/Power-Battery/masked_patchtst/based_model/linear_probe_time2024-02-23-04-03-33_ol192_patch1000_stride1000_epochs-finetune200_model1_n_layer4_n_dec2_n_head16_d_model512_dropout0.15_head_dropout0.05.pth',model)\n",
    "print('load linear_probe model')"
   ]
  },
  {
   "cell_type": "markdown",
   "metadata": {},
   "source": [
    "# 使用Conformal 预测"
   ]
  },
  {
   "cell_type": "markdown",
   "metadata": {},
   "source": [
    "## 构建数据集"
   ]
  },
  {
   "cell_type": "code",
   "execution_count": 5,
   "metadata": {},
   "outputs": [
    {
     "name": "stdout",
     "output_type": "stream",
     "text": [
      "读取CL21成功\n",
      "读取CL02成功\n",
      "读取CL22成功\n",
      "读取CL24成功\n",
      "读取CL25成功\n",
      "读取CL13成功\n",
      "读取CL11成功\n",
      "读取CL12成功\n",
      "读取CL07成功\n",
      "读取CL04成功\n",
      "读取CL15成功\n",
      "读取CL01成功\n",
      "读取CL08成功\n",
      "读取CL05成功\n",
      "读取CL27成功\n",
      "读取CL10成功\n",
      "读取CL09成功\n",
      "读取CL14成功\n",
      "读取CL26成功\n",
      "读取CL20成功\n",
      "读取CL03成功\n",
      "读取CL06成功\n",
      "读取scaler成功\n",
      "车辆CL21的有效充电循环数为233\n",
      "车辆CL02的有效充电循环数为505\n",
      "车辆CL22的有效充电循环数为158\n",
      "车辆CL24的有效充电循环数为233\n",
      "车辆CL25的有效充电循环数为218\n",
      "车辆CL13的有效充电循环数为210\n",
      "车辆CL11的有效充电循环数为241\n",
      "车辆CL12的有效充电循环数为327\n",
      "车辆CL07的有效充电循环数为444\n",
      "车辆CL04的有效充电循环数为442\n",
      "车辆CL15的有效充电循环数为339\n",
      "车辆CL01的有效充电循环数为87\n",
      "车辆CL08的有效充电循环数为221\n",
      "车辆CL05的有效充电循环数为386\n",
      "车辆CL27的有效充电循环数为147\n",
      "车辆CL10的有效充电循环数为335\n",
      "车辆CL09的有效充电循环数为380\n",
      "车辆CL14的有效充电循环数为260\n",
      "读取CL21成功\n",
      "读取CL02成功\n",
      "读取CL22成功\n",
      "读取CL24成功\n",
      "读取CL25成功\n",
      "读取CL13成功\n",
      "读取CL11成功\n",
      "读取CL12成功\n",
      "读取CL07成功\n",
      "读取CL04成功\n",
      "读取CL15成功\n",
      "读取CL01成功\n",
      "读取CL08成功\n",
      "读取CL05成功\n",
      "读取CL27成功\n",
      "读取CL10成功\n",
      "读取CL09成功\n",
      "读取CL14成功\n",
      "读取CL26成功\n",
      "读取CL20成功\n",
      "读取CL03成功\n",
      "读取CL06成功\n",
      "读取scaler成功\n",
      "车辆CL26的有效充电循环数为172\n",
      "车辆CL20的有效充电循环数为256\n",
      "车辆CL03的有效充电循环数为462\n",
      "车辆CL06的有效充电循环数为481\n",
      "读取CL21成功\n",
      "读取CL02成功\n",
      "读取CL22成功\n",
      "读取CL24成功\n",
      "读取CL25成功\n",
      "读取CL13成功\n",
      "读取CL11成功\n",
      "读取CL12成功\n",
      "读取CL07成功\n",
      "读取CL04成功\n",
      "读取CL15成功\n",
      "读取CL01成功\n",
      "读取CL08成功\n",
      "读取CL05成功\n",
      "读取CL27成功\n",
      "读取CL10成功\n",
      "读取CL09成功\n",
      "读取CL14成功\n",
      "读取CL26成功\n",
      "读取CL20成功\n",
      "读取CL03成功\n",
      "读取CL06成功\n",
      "读取scaler成功\n",
      "车辆CL21的有效充电循环数为233\n",
      "车辆CL02的有效充电循环数为505\n",
      "车辆CL22的有效充电循环数为158\n",
      "车辆CL24的有效充电循环数为233\n",
      "车辆CL25的有效充电循环数为218\n",
      "车辆CL13的有效充电循环数为210\n",
      "车辆CL11的有效充电循环数为241\n",
      "车辆CL12的有效充电循环数为327\n",
      "车辆CL07的有效充电循环数为444\n",
      "车辆CL04的有效充电循环数为442\n",
      "车辆CL15的有效充电循环数为339\n",
      "车辆CL01的有效充电循环数为87\n",
      "车辆CL08的有效充电循环数为221\n",
      "车辆CL05的有效充电循环数为386\n",
      "车辆CL27的有效充电循环数为147\n",
      "车辆CL10的有效充电循环数为335\n",
      "车辆CL09的有效充电循环数为380\n",
      "车辆CL14的有效充电循环数为260\n",
      "车辆CL26的有效充电循环数为172\n",
      "车辆CL20的有效充电循环数为256\n",
      "车辆CL03的有效充电循环数为462\n",
      "车辆CL06的有效充电循环数为481\n",
      "load dataloader for :train\n",
      "load dataloader for :val\n",
      "load dataloader for :test\n"
     ]
    }
   ],
   "source": [
    "args.task_flag = 'linear_probe'\n",
    "dataset_dict = get_dataset_dict(args)\n",
    "dls = get_dls(args,dataset_dict)\n"
   ]
  },
  {
   "cell_type": "markdown",
   "metadata": {},
   "source": [
    "## 模型推理"
   ]
  },
  {
   "cell_type": "code",
   "execution_count": 6,
   "metadata": {},
   "outputs": [],
   "source": [
    "cbs = [PatchCB(patch_len=args.patch_len, stride=args.stride)]\n",
    "learn = Learner(dls, model,cbs=cbs,flag=args.task_flag,args=args)\n",
    "score = [rmse,mae,REP]\n",
    "model.to('cuda')\n",
    "out_train  = learn.test(dls.train,model, scores=score) \n",
    "out_test = learn.test(dls.test,model, scores=score)\n",
    "scaler = joblib.load('./data/target_scaler.pkl')\n",
    "pred_train = scaler.inverse_transform(out_train[0])\n",
    "true_train = scaler.inverse_transform(out_train[1])\n",
    "pred_test = scaler.inverse_transform(out_test[0])\n",
    "true_test = scaler.inverse_transform(out_test[1])"
   ]
  },
  {
   "cell_type": "markdown",
   "metadata": {},
   "source": [
    "##　合式预测计算区间"
   ]
  },
  {
   "cell_type": "code",
   "execution_count": 10,
   "metadata": {},
   "outputs": [],
   "source": [
    "##读取npy文件\n",
    "pred_test = np.load('result/192/2024-02-23-04-46-53out_len192_pred.npy')\n",
    "true_test = np.load('result/192/2024-02-23-04-46-53out_len192_true.npy')"
   ]
  },
  {
   "cell_type": "code",
   "execution_count": 11,
   "metadata": {},
   "outputs": [],
   "source": [
    "# 计算合式预测的置信区间阈值\n",
    "alpha = 0.05 # 95%置信水平\n",
    "# 定义上界非异性度量（预测过高的情况）\n",
    "\n",
    "error_abs = np.abs(pred_train - true_train)\n",
    "# 确定上界和下界的阈值\n",
    "quantile_lower = np.quantile(error_abs, 1 - alpha,axis=0)\n",
    "\n"
   ]
  },
  {
   "cell_type": "code",
   "execution_count": 17,
   "metadata": {},
   "outputs": [
    {
     "data": {
      "text/plain": [
       "(96,)"
      ]
     },
     "execution_count": 17,
     "metadata": {},
     "output_type": "execute_result"
    }
   ],
   "source": [
    "input_len = 96\n",
    "\n",
    "input.shape "
   ]
  },
  {
   "cell_type": "code",
   "execution_count": 21,
   "metadata": {},
   "outputs": [
    {
     "ename": "ValueError",
     "evalue": "x and y must have same first dimension, but have shapes (96,) and (192,)",
     "output_type": "error",
     "traceback": [
      "\u001b[0;31m---------------------------------------------------------------------------\u001b[0m",
      "\u001b[0;31mValueError\u001b[0m                                Traceback (most recent call last)",
      "Cell \u001b[0;32mIn[21], line 19\u001b[0m\n\u001b[1;32m     17\u001b[0m plt\u001b[38;5;241m.\u001b[39mplot(\u001b[38;5;28mrange\u001b[39m(input_len),\u001b[38;5;28minput\u001b[39m, \u001b[38;5;124m'\u001b[39m\u001b[38;5;124mblack\u001b[39m\u001b[38;5;124m'\u001b[39m, label\u001b[38;5;241m=\u001b[39m\u001b[38;5;124m'\u001b[39m\u001b[38;5;124mPast values\u001b[39m\u001b[38;5;124m'\u001b[39m)\n\u001b[1;32m     18\u001b[0m \u001b[38;5;66;03m# 绘制区间预测\u001b[39;00m\n\u001b[0;32m---> 19\u001b[0m \u001b[43mplt\u001b[49m\u001b[38;5;241;43m.\u001b[39;49m\u001b[43mplot\u001b[49m\u001b[43m(\u001b[49m\u001b[38;5;28;43mrange\u001b[39;49m\u001b[43m(\u001b[49m\u001b[43minput_len\u001b[49m\u001b[43m,\u001b[49m\u001b[38;5;28;43mlen\u001b[39;49m\u001b[43m(\u001b[49m\u001b[43mmin_error_row_true\u001b[49m\u001b[43m)\u001b[49m\u001b[43m)\u001b[49m\u001b[43m,\u001b[49m\u001b[43mmin_error_row_pred\u001b[49m\u001b[43m,\u001b[49m\u001b[43m \u001b[49m\u001b[38;5;124;43m'\u001b[39;49m\u001b[38;5;124;43mb-\u001b[39;49m\u001b[38;5;124;43m'\u001b[39;49m\u001b[43m,\u001b[49m\u001b[43m \u001b[49m\u001b[43mlabel\u001b[49m\u001b[38;5;241;43m=\u001b[39;49m\u001b[38;5;124;43m'\u001b[39;49m\u001b[38;5;124;43mPredicted mean\u001b[39;49m\u001b[38;5;124;43m'\u001b[39;49m\u001b[43m)\u001b[49m\n\u001b[1;32m     20\u001b[0m \u001b[38;5;66;03m# 绘制实际观测值\u001b[39;00m\n\u001b[1;32m     21\u001b[0m plt\u001b[38;5;241m.\u001b[39mplot( \u001b[38;5;28mrange\u001b[39m(\u001b[38;5;28mlen\u001b[39m(min_error_row_true))\u001b[38;5;241m+\u001b[39minput_len,min_error_row_true, \u001b[38;5;124m'\u001b[39m\u001b[38;5;124mr-\u001b[39m\u001b[38;5;124m'\u001b[39m, label\u001b[38;5;241m=\u001b[39m\u001b[38;5;124m'\u001b[39m\u001b[38;5;124mTrue values\u001b[39m\u001b[38;5;124m'\u001b[39m)\n",
      "File \u001b[0;32m~/anaconda3/envs/time_series/lib/python3.9/site-packages/matplotlib/pyplot.py:2785\u001b[0m, in \u001b[0;36mplot\u001b[0;34m(scalex, scaley, data, *args, **kwargs)\u001b[0m\n\u001b[1;32m   2783\u001b[0m \u001b[38;5;129m@_copy_docstring_and_deprecators\u001b[39m(Axes\u001b[38;5;241m.\u001b[39mplot)\n\u001b[1;32m   2784\u001b[0m \u001b[38;5;28;01mdef\u001b[39;00m \u001b[38;5;21mplot\u001b[39m(\u001b[38;5;241m*\u001b[39margs, scalex\u001b[38;5;241m=\u001b[39m\u001b[38;5;28;01mTrue\u001b[39;00m, scaley\u001b[38;5;241m=\u001b[39m\u001b[38;5;28;01mTrue\u001b[39;00m, data\u001b[38;5;241m=\u001b[39m\u001b[38;5;28;01mNone\u001b[39;00m, \u001b[38;5;241m*\u001b[39m\u001b[38;5;241m*\u001b[39mkwargs):\n\u001b[0;32m-> 2785\u001b[0m     \u001b[38;5;28;01mreturn\u001b[39;00m \u001b[43mgca\u001b[49m\u001b[43m(\u001b[49m\u001b[43m)\u001b[49m\u001b[38;5;241;43m.\u001b[39;49m\u001b[43mplot\u001b[49m\u001b[43m(\u001b[49m\n\u001b[1;32m   2786\u001b[0m \u001b[43m        \u001b[49m\u001b[38;5;241;43m*\u001b[39;49m\u001b[43margs\u001b[49m\u001b[43m,\u001b[49m\u001b[43m \u001b[49m\u001b[43mscalex\u001b[49m\u001b[38;5;241;43m=\u001b[39;49m\u001b[43mscalex\u001b[49m\u001b[43m,\u001b[49m\u001b[43m \u001b[49m\u001b[43mscaley\u001b[49m\u001b[38;5;241;43m=\u001b[39;49m\u001b[43mscaley\u001b[49m\u001b[43m,\u001b[49m\n\u001b[1;32m   2787\u001b[0m \u001b[43m        \u001b[49m\u001b[38;5;241;43m*\u001b[39;49m\u001b[38;5;241;43m*\u001b[39;49m\u001b[43m(\u001b[49m\u001b[43m{\u001b[49m\u001b[38;5;124;43m\"\u001b[39;49m\u001b[38;5;124;43mdata\u001b[39;49m\u001b[38;5;124;43m\"\u001b[39;49m\u001b[43m:\u001b[49m\u001b[43m \u001b[49m\u001b[43mdata\u001b[49m\u001b[43m}\u001b[49m\u001b[43m \u001b[49m\u001b[38;5;28;43;01mif\u001b[39;49;00m\u001b[43m \u001b[49m\u001b[43mdata\u001b[49m\u001b[43m \u001b[49m\u001b[38;5;129;43;01mis\u001b[39;49;00m\u001b[43m \u001b[49m\u001b[38;5;129;43;01mnot\u001b[39;49;00m\u001b[43m \u001b[49m\u001b[38;5;28;43;01mNone\u001b[39;49;00m\u001b[43m \u001b[49m\u001b[38;5;28;43;01melse\u001b[39;49;00m\u001b[43m \u001b[49m\u001b[43m{\u001b[49m\u001b[43m}\u001b[49m\u001b[43m)\u001b[49m\u001b[43m,\u001b[49m\u001b[43m \u001b[49m\u001b[38;5;241;43m*\u001b[39;49m\u001b[38;5;241;43m*\u001b[39;49m\u001b[43mkwargs\u001b[49m\u001b[43m)\u001b[49m\n",
      "File \u001b[0;32m~/anaconda3/envs/time_series/lib/python3.9/site-packages/matplotlib/axes/_axes.py:1688\u001b[0m, in \u001b[0;36mAxes.plot\u001b[0;34m(self, scalex, scaley, data, *args, **kwargs)\u001b[0m\n\u001b[1;32m   1445\u001b[0m \u001b[38;5;250m\u001b[39m\u001b[38;5;124;03m\"\"\"\u001b[39;00m\n\u001b[1;32m   1446\u001b[0m \u001b[38;5;124;03mPlot y versus x as lines and/or markers.\u001b[39;00m\n\u001b[1;32m   1447\u001b[0m \n\u001b[0;32m   (...)\u001b[0m\n\u001b[1;32m   1685\u001b[0m \u001b[38;5;124;03m(``'green'``) or hex strings (``'#008000'``).\u001b[39;00m\n\u001b[1;32m   1686\u001b[0m \u001b[38;5;124;03m\"\"\"\u001b[39;00m\n\u001b[1;32m   1687\u001b[0m kwargs \u001b[38;5;241m=\u001b[39m cbook\u001b[38;5;241m.\u001b[39mnormalize_kwargs(kwargs, mlines\u001b[38;5;241m.\u001b[39mLine2D)\n\u001b[0;32m-> 1688\u001b[0m lines \u001b[38;5;241m=\u001b[39m [\u001b[38;5;241m*\u001b[39m\u001b[38;5;28mself\u001b[39m\u001b[38;5;241m.\u001b[39m_get_lines(\u001b[38;5;241m*\u001b[39margs, data\u001b[38;5;241m=\u001b[39mdata, \u001b[38;5;241m*\u001b[39m\u001b[38;5;241m*\u001b[39mkwargs)]\n\u001b[1;32m   1689\u001b[0m \u001b[38;5;28;01mfor\u001b[39;00m line \u001b[38;5;129;01min\u001b[39;00m lines:\n\u001b[1;32m   1690\u001b[0m     \u001b[38;5;28mself\u001b[39m\u001b[38;5;241m.\u001b[39madd_line(line)\n",
      "File \u001b[0;32m~/anaconda3/envs/time_series/lib/python3.9/site-packages/matplotlib/axes/_base.py:311\u001b[0m, in \u001b[0;36m_process_plot_var_args.__call__\u001b[0;34m(self, data, *args, **kwargs)\u001b[0m\n\u001b[1;32m    309\u001b[0m     this \u001b[38;5;241m+\u001b[39m\u001b[38;5;241m=\u001b[39m args[\u001b[38;5;241m0\u001b[39m],\n\u001b[1;32m    310\u001b[0m     args \u001b[38;5;241m=\u001b[39m args[\u001b[38;5;241m1\u001b[39m:]\n\u001b[0;32m--> 311\u001b[0m \u001b[38;5;28;01myield from\u001b[39;00m \u001b[38;5;28;43mself\u001b[39;49m\u001b[38;5;241;43m.\u001b[39;49m\u001b[43m_plot_args\u001b[49m\u001b[43m(\u001b[49m\n\u001b[1;32m    312\u001b[0m \u001b[43m    \u001b[49m\u001b[43mthis\u001b[49m\u001b[43m,\u001b[49m\u001b[43m \u001b[49m\u001b[43mkwargs\u001b[49m\u001b[43m,\u001b[49m\u001b[43m \u001b[49m\u001b[43mambiguous_fmt_datakey\u001b[49m\u001b[38;5;241;43m=\u001b[39;49m\u001b[43mambiguous_fmt_datakey\u001b[49m\u001b[43m)\u001b[49m\n",
      "File \u001b[0;32m~/anaconda3/envs/time_series/lib/python3.9/site-packages/matplotlib/axes/_base.py:504\u001b[0m, in \u001b[0;36m_process_plot_var_args._plot_args\u001b[0;34m(self, tup, kwargs, return_kwargs, ambiguous_fmt_datakey)\u001b[0m\n\u001b[1;32m    501\u001b[0m     \u001b[38;5;28mself\u001b[39m\u001b[38;5;241m.\u001b[39maxes\u001b[38;5;241m.\u001b[39myaxis\u001b[38;5;241m.\u001b[39mupdate_units(y)\n\u001b[1;32m    503\u001b[0m \u001b[38;5;28;01mif\u001b[39;00m x\u001b[38;5;241m.\u001b[39mshape[\u001b[38;5;241m0\u001b[39m] \u001b[38;5;241m!=\u001b[39m y\u001b[38;5;241m.\u001b[39mshape[\u001b[38;5;241m0\u001b[39m]:\n\u001b[0;32m--> 504\u001b[0m     \u001b[38;5;28;01mraise\u001b[39;00m \u001b[38;5;167;01mValueError\u001b[39;00m(\u001b[38;5;124mf\u001b[39m\u001b[38;5;124m\"\u001b[39m\u001b[38;5;124mx and y must have same first dimension, but \u001b[39m\u001b[38;5;124m\"\u001b[39m\n\u001b[1;32m    505\u001b[0m                      \u001b[38;5;124mf\u001b[39m\u001b[38;5;124m\"\u001b[39m\u001b[38;5;124mhave shapes \u001b[39m\u001b[38;5;132;01m{\u001b[39;00mx\u001b[38;5;241m.\u001b[39mshape\u001b[38;5;132;01m}\u001b[39;00m\u001b[38;5;124m and \u001b[39m\u001b[38;5;132;01m{\u001b[39;00my\u001b[38;5;241m.\u001b[39mshape\u001b[38;5;132;01m}\u001b[39;00m\u001b[38;5;124m\"\u001b[39m)\n\u001b[1;32m    506\u001b[0m \u001b[38;5;28;01mif\u001b[39;00m x\u001b[38;5;241m.\u001b[39mndim \u001b[38;5;241m>\u001b[39m \u001b[38;5;241m2\u001b[39m \u001b[38;5;129;01mor\u001b[39;00m y\u001b[38;5;241m.\u001b[39mndim \u001b[38;5;241m>\u001b[39m \u001b[38;5;241m2\u001b[39m:\n\u001b[1;32m    507\u001b[0m     \u001b[38;5;28;01mraise\u001b[39;00m \u001b[38;5;167;01mValueError\u001b[39;00m(\u001b[38;5;124mf\u001b[39m\u001b[38;5;124m\"\u001b[39m\u001b[38;5;124mx and y can be no greater than 2D, but have \u001b[39m\u001b[38;5;124m\"\u001b[39m\n\u001b[1;32m    508\u001b[0m                      \u001b[38;5;124mf\u001b[39m\u001b[38;5;124m\"\u001b[39m\u001b[38;5;124mshapes \u001b[39m\u001b[38;5;132;01m{\u001b[39;00mx\u001b[38;5;241m.\u001b[39mshape\u001b[38;5;132;01m}\u001b[39;00m\u001b[38;5;124m and \u001b[39m\u001b[38;5;132;01m{\u001b[39;00my\u001b[38;5;241m.\u001b[39mshape\u001b[38;5;132;01m}\u001b[39;00m\u001b[38;5;124m\"\u001b[39m)\n",
      "\u001b[0;31mValueError\u001b[0m: x and y must have same first dimension, but have shapes (96,) and (192,)"
     ]
    },
    {
     "data": {
      "image/png": "[encoded data removed]",
      "text/plain": [
       "<Figure size 640x480 with 1 Axes>"
      ]
     },
     "metadata": {},
     "output_type": "display_data"
    }
   ],
   "source": [
    "import matplotlib.pyplot as plt\n",
    "input_len = 96\n",
    "# 计算每行的误差\n",
    "error_test = np.abs(pred_test - true_test)\n",
    "\n",
    "# 计算每行的最大误差\n",
    "max_error = np.mean(error_test, axis=1)\n",
    "\n",
    "# 找到最大误差最小的行索引\n",
    "min_max_error_row_index = np.argmin(max_error)\n",
    "\n",
    "# 获取最大误差最小的一行数组\n",
    "min_error_row_pred = pred_test[min_max_error_row_index]\n",
    "min_error_row_true = true_test[min_max_error_row_index]\n",
    "input = true_test[min_max_error_row_index-input_len][:input_len]# 创建一个新的图形\n",
    "plt.figure()\n",
    "# plt.plot(range(input_len),input, 'black', label='Past values')\n",
    "# 绘制区间预测\n",
    "plt.plot(range(len(min_error_row_true)),min_error_row_pred, 'b-', label='Predicted mean')\n",
    "# 绘制实际观测值\n",
    "plt.plot( range(len(min_error_row_true)),min_error_row_true, 'r-', label='True values')\n",
    "plt.fill_between(range(len(min_error_row_true)),min_error_row_pred- quantile_lower, min_error_row_pred+quantile_lower, color='gray', alpha=0.5, label='Predicted interval')\n",
    " \n",
    "# 添加图例\n",
    "plt.legend()\n",
    "\n",
    "# 显示图形\n",
    "plt.show()"
   ]
  },
  {
   "cell_type": "code",
   "execution_count": 9,
   "metadata": {},
   "outputs": [
    {
     "data": {
      "text/plain": [
       "225"
      ]
     },
     "execution_count": 9,
     "metadata": {},
     "output_type": "execute_result"
    }
   ],
   "source": [
    "min_max_error_row_index"
   ]
  }
 ],
 "metadata": {
  "kernelspec": {
   "display_name": "time_series",
   "language": "python",
   "name": "python3"
  },
  "language_info": {
   "codemirror_mode": {
    "name": "ipython",
    "version": 3
   },
   "file_extension": ".py",
   "mimetype": "text/x-python",
   "name": "python",
   "nbconvert_exporter": "python",
   "pygments_lexer": "ipython3",
   "version": "3.9.16"
  }
 },
 "nbformat": 4,
 "nbformat_minor": 2
}
