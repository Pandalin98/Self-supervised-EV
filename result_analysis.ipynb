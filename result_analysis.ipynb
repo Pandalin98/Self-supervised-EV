{
 "cells": [
  {
   "cell_type": "markdown",
   "metadata": {},
   "source": [
    "# 配置变量"
   ]
  },
  {
   "cell_type": "code",
   "execution_count": 21,
   "metadata": {},
   "outputs": [
    {
     "name": "stdout",
     "output_type": "stream",
     "text": [
      "args: <__main__.Args object at 0x7f12dfdf5070>\n"
     ]
    }
   ],
   "source": [
    "import numpy as np\n",
    "import pandas as pd\n",
    "import os\n",
    "import torch\n",
    "from torch import nn\n",
    "from src.models.NervFormer import NervFormer\n",
    "from src.learner import Learner, transfer_weights\n",
    "from src.callback.tracking import *\n",
    "from src.callback.patch_mask import *\n",
    "from src.callback.transforms import *\n",
    "from src.metrics import *\n",
    "from src.metrics import rmse,mae,REP\n",
    "from src.basics import set_device,set_seed\n",
    "from src.datautils import *\n",
    "\n",
    "import datetime \n",
    "import argparse\n",
    "import joblib\n",
    "from src.callback.patch_mask import create_patch\n",
    "from src.power_battery import PowerBatteryData\n",
    "# from src.explain import explain_funciton\n",
    "#设计随机种子\n",
    "class Args:\n",
    "    def __init__(self, device, is_pretrain, is_finetune, is_linear_probe, explain, \n",
    "                 test, predict, project_name, dset_pretrain, dset_finetune, \n",
    "                 data_path, batch_size, num_workers, scale, dist, revin, \n",
    "                 n_layers, n_layers_dec, prior_dim, n_heads, d_model, dropout, \n",
    "                 head_dropout, input_len, output_len, patch_len, stride, \n",
    "                 stride_ratio, mask_ratio, recon_weight, kl_temperature, \n",
    "                 n_epochs_pretrain, lr, n_epochs_finetune, head_epochs_ratio, \n",
    "                 pretrained_model_id, model_type):\n",
    "        self.device = device\n",
    "        self.is_pretrain = is_pretrain\n",
    "        self.is_finetune = is_finetune\n",
    "        self.is_linear_probe = is_linear_probe\n",
    "        self.explain = explain\n",
    "        self.test = test\n",
    "        self.predict = predict\n",
    "        self.project_name = project_name\n",
    "        self.dset_pretrain = dset_pretrain\n",
    "        self.dset_finetune = dset_finetune\n",
    "        self.data_path = data_path\n",
    "        self.batch_size = batch_size\n",
    "        self.num_workers = num_workers\n",
    "        self.scale = scale\n",
    "        self.dist = dist\n",
    "        self.revin = revin\n",
    "        self.n_layers = n_layers\n",
    "        self.n_layers_dec = n_layers_dec\n",
    "        self.prior_dim = prior_dim\n",
    "        self.n_heads = n_heads\n",
    "        self.d_model = d_model\n",
    "        self.dropout = dropout\n",
    "        self.head_dropout = head_dropout\n",
    "        self.input_len = input_len\n",
    "        self.output_len = output_len\n",
    "        self.patch_len = patch_len\n",
    "        self.stride = stride\n",
    "        self.stride_ratio = stride_ratio\n",
    "        self.mask_ratio = mask_ratio\n",
    "        self.recon_weight = recon_weight\n",
    "        self.kl_temperature = kl_temperature\n",
    "        self.n_epochs_pretrain = n_epochs_pretrain\n",
    "        self.lr = lr\n",
    "        self.n_epochs_finetune = n_epochs_finetune\n",
    "        self.head_epochs_ratio = head_epochs_ratio\n",
    "        self.pretrained_model_id = pretrained_model_id\n",
    "        self.model_type = model_type\n",
    "        # ... 其他参数\n",
    "\n",
    "args = Args(\n",
    "    device=3, is_pretrain=0, is_finetune=0, is_linear_probe=1, explain=0, \n",
    "    test=True, predict=True, project_name='power_battery', dset_pretrain='Power-Battery', \n",
    "    dset_finetune='Power-Battery', data_path='./data/local_data_structure', batch_size=512, \n",
    "    num_workers=0, scale=True, dist=False, revin=0, n_layers=4, n_layers_dec=2, \n",
    "    prior_dim=6, n_heads=16, d_model=512, dropout=0.15, head_dropout=0.05, \n",
    "    input_len=96, output_len=192, patch_len=1000, stride=True, stride_ratio=1.0, \n",
    "    mask_ratio=0.4, recon_weight=0.5, kl_temperature=0.1, n_epochs_pretrain=300, \n",
    "    lr=1e-4, n_epochs_finetune=200, head_epochs_ratio=0.05, pretrained_model_id=1, \n",
    "    model_type='based_model'\n",
    "    # ... 其他参数\n",
    ")\n",
    "\n",
    "args.finetuned_model_id = 1\n",
    "\n",
    "args.stride = int(args.patch_len * args.stride_ratio)\n",
    "args.dist = False\n",
    "print('args:', args)\n",
    "args.pretrained_model = 'patchtst_pretrained_dataset'+str(args.dset_pretrain)+'_patch'+str(args.patch_len) + '_stride'+str(args.stride) + '_epochs-pretrain' + str(args.n_epochs_pretrain) + '_mask' + str(args.mask_ratio)  + '_model' + str(args.pretrained_model_id)\n",
    "args.save_path = 'saved_models/' + args.dset_pretrain + '/masked_patchtst/' + args.model_type + '/'\n",
    "if not os.path.exists(args.save_path): os.makedirs(args.save_path)\n",
    "\n",
    "time = datetime.datetime.now().strftime(\"%Y-%m-%d-%H-%M-%S\")\n",
    "# args.save_finetuned_model = '_cw'+str(args.context_points)+'_tw'+str(args.output_len) + '_patch'+str(args.patch_len) + '_stride'+str(args.stride) + '_epochs-finetune' + str(args.n_epochs_finetune) + '_mask' + str(args.mask_ratio)  + '_model' + str(args.finetuned_model_id)\n",
    "suffix_name = '_time'+str(time)+'_ol'+str(args.output_len) + '_patch'+str(args.patch_len) + '_stride'+str(args.stride) + '_epochs-finetune' + str(args.n_epochs_finetune) + '_model' + str(args.finetuned_model_id)+ '_n_layer'+str(args.n_layers)+'_n_dec'+str(args.n_layers_dec)+'_n_head'+str(args.n_heads)+'_d_model'+str(args.d_model)+'_dropout'+str(args.dropout)+'_head_dropout'+str(args.head_dropout)\n",
    "args.d_ff = 4 * args.d_model\n",
    "args.save_pretrained_model = args.pretrained_model\n",
    "args.save_linear_probe_model = 'linear_probe' + suffix_name\n",
    "args.save_finetuned_model = 'finetuned' + suffix_name\n",
    "# get available GPU devide\n",
    "if not args.dist:\n",
    "    set_device(device_id=args.device)\n",
    "set_seed(3407)"
   ]
  },
  {
   "cell_type": "code",
   "execution_count": 22,
   "metadata": {},
   "outputs": [],
   "source": [
    "def get_model(c_in, head_type,args):\n",
    "    \"\"\"\n",
    "    c_in: number of variables\n",
    "    \"\"\"\n",
    "    # get number of patches\n",
    "    \n",
    "    # get modelxb, yb\n",
    "    model = NervFormer(c_in=c_in,head_type=head_type,\n",
    "                target_dim=args.output_len,\n",
    "                patch_len=args.patch_len,\n",
    "                stride=args.stride,\n",
    "                n_layers=args.n_layers,\n",
    "                n_layers_dec=args.n_layers_dec,\n",
    "                n_heads=args.n_heads,\n",
    "                d_model=args.d_model,\n",
    "                shared_embedding=True,\n",
    "                d_ff=args.d_ff,                        \n",
    "                dropout=args.dropout,\n",
    "                head_dropout=args.head_dropout,\n",
    "                act='relu',\n",
    "                res_attention=False,\n",
    "                prior_dim=args.prior_dim,\n",
    "                input_len=args.input_len,\n",
    "                output_len=args.output_len,\n",
    "                )        \n",
    "    # print out the model size\n",
    "    print('number of model params', sum(p.numel() for p in model.parameters() if p.requires_grad))\n",
    "    return model\n"
   ]
  },
  {
   "cell_type": "markdown",
   "metadata": {},
   "source": [
    "## 导入数据"
   ]
  },
  {
   "cell_type": "code",
   "execution_count": 23,
   "metadata": {},
   "outputs": [],
   "source": [
    "def get_dataset_dict(args):\n",
    "    dataset_dict = {}\n",
    "    if args.task_flag =='pretrain':\n",
    "        dataset_dict['pretrain'] = PowerBatteryData(**{\n",
    "                'data_path': args.data_path,\n",
    "                'scale': args.scale,\n",
    "                'size':[args.input_len,args.output_len],\n",
    "                }, split='pretrain')\n",
    "    if args.task_flag == 'finetune' or args.task_flag == 'linear_probe':\n",
    "        \"make dataset: {}\\n\".format(args.task_flag)\n",
    "        dataset_dict['train'] = PowerBatteryData(**{\n",
    "                'data_path': args.data_path,\n",
    "                'scale': args.scale,\n",
    "                'size':[args.input_len,args.output_len],\n",
    "                }, split='train')\n",
    "        dataset_dict['val'] =  PowerBatteryData(**{\n",
    "                'data_path': args.data_path,\n",
    "                'scale': args.scale,\n",
    "                'size':[args.input_len,args.output_len],\n",
    "                }, split='val')\n",
    "        dataset_dict['test'] =  PowerBatteryData(**{\n",
    "                'data_path': args.data_path,\n",
    "                'scale': args.scale,\n",
    "                'size':[args.input_len,args.output_len],\n",
    "                }, split='test')\n",
    "    if args.task_flag == 'test':\n",
    "        dataset_dict['test'] = PowerBatteryData(**{\n",
    "                'data_path': args.data_path,\n",
    "                'scale': args.scale,\n",
    "                'size':[args.input_len,args.output_len],\n",
    "                }, split='test')\n",
    "    return dataset_dict\n",
    "\n",
    "input_len = args.input_len\n",
    "finetune_strie_ratio = args.stride_ratio\n",
    "args.dset = args.dset_pretrain\n",
    "args.initialize_wandb = False\n",
    "args.task_flag = 'pretrain'\n",
    "args.batch_size = 1\n",
    "\n"
   ]
  },
  {
   "cell_type": "markdown",
   "metadata": {},
   "source": [
    "# 导入模型"
   ]
  },
  {
   "cell_type": "code",
   "execution_count": 24,
   "metadata": {},
   "outputs": [
    {
     "name": "stdout",
     "output_type": "stream",
     "text": [
      "number of model params 52774281\n",
      "weights from saved_models/Power-Battery/masked_patchtst/based_model/linear_probe_time2024-02-23-04-03-33_ol192_patch1000_stride1000_epochs-finetune200_model1_n_layer4_n_dec2_n_head16_d_model512_dropout0.15_head_dropout0.05.pth successfully transferred!\n",
      "\n",
      "load linear_probe model\n"
     ]
    }
   ],
   "source": [
    "args.head_type = 'prior_pooler'\n",
    "model = get_model(19, args.head_type,args)\n",
    "#根据device_id选择设备\n",
    "model = transfer_weights('saved_models/Power-Battery/masked_patchtst/based_model/linear_probe_time2024-02-23-04-03-33_ol192_patch1000_stride1000_epochs-finetune200_model1_n_layer4_n_dec2_n_head16_d_model512_dropout0.15_head_dropout0.05.pth',model)\n",
    "print('load linear_probe model')"
   ]
  },
  {
   "cell_type": "markdown",
   "metadata": {},
   "source": [
    "# 使用Conformal 预测"
   ]
  },
  {
   "cell_type": "markdown",
   "metadata": {},
   "source": [
    "## 构建数据集"
   ]
  },
  {
   "cell_type": "code",
   "execution_count": 25,
   "metadata": {},
   "outputs": [
    {
     "name": "stdout",
     "output_type": "stream",
     "text": [
      "读取CL21成功\n",
      "读取CL02成功\n",
      "读取CL22成功\n",
      "读取CL24成功\n",
      "读取CL25成功\n",
      "读取CL13成功\n",
      "读取CL11成功\n",
      "读取CL12成功\n",
      "读取CL07成功\n",
      "读取CL04成功\n",
      "读取CL15成功\n",
      "读取CL01成功\n",
      "读取CL08成功\n",
      "读取CL05成功\n",
      "读取CL27成功\n",
      "读取CL10成功\n",
      "读取CL09成功\n",
      "读取CL14成功\n",
      "读取CL26成功\n",
      "读取CL20成功\n",
      "读取CL03成功\n",
      "读取CL06成功\n",
      "读取scaler成功\n",
      "车辆CL21的有效充电循环数为233\n",
      "车辆CL02的有效充电循环数为505\n",
      "车辆CL22的有效充电循环数为158\n",
      "车辆CL24的有效充电循环数为233\n",
      "车辆CL25的有效充电循环数为218\n",
      "车辆CL13的有效充电循环数为210\n",
      "车辆CL11的有效充电循环数为241\n",
      "车辆CL12的有效充电循环数为327\n",
      "车辆CL07的有效充电循环数为444\n",
      "车辆CL04的有效充电循环数为442\n",
      "车辆CL15的有效充电循环数为339\n",
      "车辆CL01的有效充电循环数为87\n",
      "车辆CL08的有效充电循环数为221\n",
      "车辆CL05的有效充电循环数为386\n",
      "车辆CL27的有效充电循环数为147\n",
      "车辆CL10的有效充电循环数为335\n",
      "车辆CL09的有效充电循环数为380\n",
      "车辆CL14的有效充电循环数为260\n",
      "读取CL21成功\n",
      "读取CL02成功\n",
      "读取CL22成功\n",
      "读取CL24成功\n",
      "读取CL25成功\n",
      "读取CL13成功\n",
      "读取CL11成功\n",
      "读取CL12成功\n",
      "读取CL07成功\n",
      "读取CL04成功\n",
      "读取CL15成功\n",
      "读取CL01成功\n",
      "读取CL08成功\n",
      "读取CL05成功\n",
      "读取CL27成功\n",
      "读取CL10成功\n",
      "读取CL09成功\n",
      "读取CL14成功\n",
      "读取CL26成功\n",
      "读取CL20成功\n",
      "读取CL03成功\n",
      "读取CL06成功\n",
      "读取scaler成功\n",
      "车辆CL26的有效充电循环数为172\n",
      "车辆CL20的有效充电循环数为256\n",
      "车辆CL03的有效充电循环数为462\n",
      "车辆CL06的有效充电循环数为481\n",
      "读取CL21成功\n",
      "读取CL02成功\n",
      "读取CL22成功\n",
      "读取CL24成功\n",
      "读取CL25成功\n",
      "读取CL13成功\n",
      "读取CL11成功\n",
      "读取CL12成功\n",
      "读取CL07成功\n",
      "读取CL04成功\n",
      "读取CL15成功\n",
      "读取CL01成功\n",
      "读取CL08成功\n",
      "读取CL05成功\n",
      "读取CL27成功\n",
      "读取CL10成功\n",
      "读取CL09成功\n",
      "读取CL14成功\n",
      "读取CL26成功\n",
      "读取CL20成功\n",
      "读取CL03成功\n",
      "读取CL06成功\n",
      "读取scaler成功\n",
      "车辆CL26的有效充电循环数为172\n",
      "车辆CL20的有效充电循环数为256\n",
      "车辆CL03的有效充电循环数为462\n",
      "车辆CL06的有效充电循环数为481\n",
      "load dataloader for :train\n",
      "load dataloader for :val\n",
      "load dataloader for :test\n"
     ]
    }
   ],
   "source": [
    "args.task_flag = 'linear_probe'\n",
    "dataset_dict = get_dataset_dict(args)\n",
    "dls = get_dls(args,dataset_dict)\n"
   ]
  },
  {
   "cell_type": "markdown",
   "metadata": {},
   "source": [
    "## 模型推理"
   ]
  },
  {
   "cell_type": "code",
   "execution_count": 26,
   "metadata": {},
   "outputs": [],
   "source": [
    "cbs = [PatchCB(patch_len=args.patch_len, stride=args.stride)]\n",
    "learn = Learner(dls, model,cbs=cbs,flag=args.task_flag,args=args)\n",
    "score = [rmse,mae,REP]\n",
    "model.to('cuda')\n",
    "out_train  = learn.test(dls.train,model, scores=score) \n",
    "out_test = learn.test(dls.test,model, scores=score)\n",
    "scaler = joblib.load('./data/target_scaler.pkl')\n",
    "pred_train = scaler.inverse_transform(out_train[0])\n",
    "true_train = scaler.inverse_transform(out_train[1])\n",
    "pred_test = scaler.inverse_transform(out_test[0])\n",
    "true_test = scaler.inverse_transform(out_test[1])"
   ]
  },
  {
   "cell_type": "markdown",
   "metadata": {},
   "source": [
    "##　合式预测计算区间"
   ]
  },
  {
   "cell_type": "code",
   "execution_count": 27,
   "metadata": {},
   "outputs": [],
   "source": [
    "# 计算合式预测的置信区间阈值\n",
    "alpha = 0.05 # 95%置信水平\n",
    "# 定义上界非异性度量（预测过高的情况）\n",
    "\n",
    "error_abs = np.abs(pred_train - true_train)\n",
    "# 确定上界和下界的阈值\n",
    "quantile_lower = np.quantile(error_abs, 1 - alpha,axis=0)\n",
    "\n"
   ]
  },
  {
   "cell_type": "code",
   "execution_count": 34,
   "metadata": {},
   "outputs": [
    {
     "data": {
      "text/plain": [
       "10.317146"
      ]
     },
     "execution_count": 34,
     "metadata": {},
     "output_type": "execute_result"
    }
   ],
   "source": []
  },
  {
   "cell_type": "code",
   "execution_count": 36,
   "metadata": {},
   "outputs": [
    {
     "data": {
      "image/png": "[encoded data removed]",
      "text/plain": [
       "<Figure size 640x480 with 1 Axes>"
      ]
     },
     "metadata": {},
     "output_type": "display_data"
    }
   ],
   "source": [
    "import matplotlib.pyplot as plt\n",
    "\n",
    "# 计算每行的误差\n",
    "error_test = np.abs(pred_test - true_test)\n",
    "\n",
    "# 计算每行的最大误差\n",
    "max_error = np.mean(error_test, axis=1)\n",
    "\n",
    "# 找到最大误差最小的行索引\n",
    "min_max_error_row_index = np.argmin(max_error)\n",
    "\n",
    "# 获取最大误差最小的一行数组\n",
    "min_error_row_pred = pred_test[min_max_error_row_index]\n",
    "min_error_row_true = true_test[min_max_error_row_index]\n",
    "\n",
    "# 创建一个新的图形\n",
    "plt.figure()\n",
    "# 绘制区间预测\n",
    "plt.plot(min_error_row_pred, 'b-', label='Predicted mean')\n",
    "# 绘制实际观测值\n",
    "plt.plot( min_error_row_true, 'r-', label='True values')\n",
    "plt.fill_between(range(len(min_error_row_true)),min_error_row_pred- quantile_lower, min_error_row_pred+quantile_lower, color='gray', alpha=0.5, label='Predicted interval')\n",
    " \n",
    "# 添加图例\n",
    "plt.legend()\n",
    "\n",
    "# 显示图形\n",
    "plt.show()"
   ]
  },
  {
   "cell_type": "code",
   "execution_count": 32,
   "metadata": {},
   "outputs": [
    {
     "data": {
      "text/plain": [
       "379"
      ]
     },
     "execution_count": 32,
     "metadata": {},
     "output_type": "execute_result"
    }
   ],
   "source": [
    "min_max_error_row_index"
   ]
  }
 ],
 "metadata": {
  "kernelspec": {
   "display_name": "time_series",
   "language": "python",
   "name": "python3"
  },
  "language_info": {
   "codemirror_mode": {
    "name": "ipython",
    "version": 3
   },
   "file_extension": ".py",
   "mimetype": "text/x-python",
   "name": "python",
   "nbconvert_exporter": "python",
   "pygments_lexer": "ipython3",
   "version": "3.9.16"
  }
 },
 "nbformat": 4,
 "nbformat_minor": 2
}
